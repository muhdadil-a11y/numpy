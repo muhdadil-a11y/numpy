{
  "nbformat": 4,
  "nbformat_minor": 0,
  "metadata": {
    "colab": {
      "provenance": [],
      "authorship_tag": "ABX9TyO95DTLHnuZTNzDAs8dvRDt",
      "include_colab_link": true
    },
    "kernelspec": {
      "name": "python3",
      "display_name": "Python 3"
    },
    "language_info": {
      "name": "python"
    }
  },
  "cells": [
    {
      "cell_type": "markdown",
      "metadata": {
        "id": "view-in-github",
        "colab_type": "text"
      },
      "source": [
        "<a href=\"https://colab.research.google.com/github/muhdadil-a11y/numpy/blob/main/numpy.ipynb\" target=\"_parent\"><img src=\"https://colab.research.google.com/assets/colab-badge.svg\" alt=\"Open In Colab\"/></a>"
      ]
    },
    {
      "cell_type": "code",
      "execution_count": null,
      "metadata": {
        "colab": {
          "base_uri": "https://localhost:8080/"
        },
        "id": "WYY-U85NFQlD",
        "outputId": "b87c0d72-3e32-4c38-dfb6-aa893149c84a"
      },
      "outputs": [
        {
          "output_type": "stream",
          "name": "stdout",
          "text": [
            "['1' '2' '3.0' '4' 'a']\n"
          ]
        }
      ],
      "source": [
        "import numpy as np #numerical python\n",
        "\n",
        "#array : collection of data with same datatype(Homogenious)\n",
        "\n",
        "a=np.array([1,2,3.0,4,\"a\"])\n",
        "print(a)"
      ]
    },
    {
      "cell_type": "code",
      "source": [
        "#slicing : forward slicing backward slicing\n",
        "b=np.array([1,2,3,4,5])\n",
        "\n",
        "print(b[0:2])\n",
        "print(b[-1:-3:-1])\n",
        "print(b[3:5])\n",
        "print(b[-4:-6:-1])"
      ],
      "metadata": {
        "colab": {
          "base_uri": "https://localhost:8080/"
        },
        "id": "PpeT9WKyHNVW",
        "outputId": "8376ed0f-7336-4813-e769-efae4efc597c"
      },
      "execution_count": null,
      "outputs": [
        {
          "output_type": "stream",
          "name": "stdout",
          "text": [
            "[1 2]\n",
            "[5 4]\n",
            "[4 5]\n",
            "[2 1]\n"
          ]
        }
      ]
    },
    {
      "cell_type": "code",
      "source": [
        "#dimension\n",
        "import numpy as np\n",
        "a=np.array([0,1,2,3,4])\n",
        "b=np.array([[1,2],[3,4]])\n",
        "a.ndim #dimention=1 vector\n",
        "b.ndim #dimention=2 matrix\n",
        "print(b)\n",
        "b.shape"
      ],
      "metadata": {
        "colab": {
          "base_uri": "https://localhost:8080/"
        },
        "id": "3ndP3DsBJFxG",
        "outputId": "9935534c-a815-47b5-aca1-89c19c97f884"
      },
      "execution_count": null,
      "outputs": [
        {
          "output_type": "stream",
          "name": "stdout",
          "text": [
            "[[1 2]\n",
            " [3 4]]\n"
          ]
        },
        {
          "output_type": "execute_result",
          "data": {
            "text/plain": [
              "(2, 2)"
            ]
          },
          "metadata": {},
          "execution_count": 5
        }
      ]
    },
    {
      "cell_type": "code",
      "source": [
        "#create a 2x2 matrix 2,3,4,5\n",
        "\n",
        "z=np.array([[2,1],[4,5]])\n",
        "print(z)\n",
        "print(z.shape)\n",
        "print(z.ndim)\n",
        "print(z.size)"
      ],
      "metadata": {
        "colab": {
          "base_uri": "https://localhost:8080/"
        },
        "id": "zU1DTnX9Kdev",
        "outputId": "84711747-c3e4-49f4-a073-270668c680ab"
      },
      "execution_count": null,
      "outputs": [
        {
          "output_type": "stream",
          "name": "stdout",
          "text": [
            "[[2 1]\n",
            " [4 5]]\n",
            "(2, 2)\n",
            "2\n",
            "4\n"
          ]
        }
      ]
    },
    {
      "cell_type": "code",
      "source": [
        "#create a 2x3 matrix and print,size,shape,diamention\n",
        "\n",
        "q=np.array([[2,5,7],[1,6,3]])\n",
        "print(q)\n",
        "print(q.shape)\n",
        "print(q.size)\n",
        "print(q.ndim)"
      ],
      "metadata": {
        "colab": {
          "base_uri": "https://localhost:8080/"
        },
        "id": "xSs9_GgbLcVm",
        "outputId": "ba05e5d8-5ff2-4cc9-9d66-9e61df5274e9"
      },
      "execution_count": null,
      "outputs": [
        {
          "output_type": "stream",
          "name": "stdout",
          "text": [
            "[[2 5 7]\n",
            " [1 6 3]]\n",
            "(2, 3)\n",
            "6\n",
            "2\n"
          ]
        }
      ]
    },
    {
      "cell_type": "code",
      "source": [
        "#create a 4x2 matric and print size shape diamention\n",
        "q=np.array([[2,5],[1,6],[2,5],[5,9]])\n",
        "print(q)\n",
        "print(q.shape)\n",
        "print(q.size)\n",
        "print(q.ndim)"
      ],
      "metadata": {
        "colab": {
          "base_uri": "https://localhost:8080/"
        },
        "id": "NPhgI7COMdBb",
        "outputId": "2c5161ca-5e83-410d-8ab7-1f28607dee6c"
      },
      "execution_count": null,
      "outputs": [
        {
          "output_type": "stream",
          "name": "stdout",
          "text": [
            "[[2 5]\n",
            " [1 6]\n",
            " [2 5]\n",
            " [5 9]]\n",
            "(4, 2)\n",
            "8\n",
            "2\n"
          ]
        }
      ]
    },
    {
      "cell_type": "code",
      "source": [
        "#create a 4x4 matrix\n",
        "q=np.array([[2,5,7,4],[1,6,3,4],[2,1,6,3],[7,8,3,2]])\n",
        "print(q)\n",
        "print(q.shape)\n",
        "print(q.size)\n",
        "print(q.ndim)"
      ],
      "metadata": {
        "colab": {
          "base_uri": "https://localhost:8080/"
        },
        "id": "qTx1FCaONl8w",
        "outputId": "c2eb0632-890f-4bc6-fbd9-67321c049c4b"
      },
      "execution_count": null,
      "outputs": [
        {
          "output_type": "stream",
          "name": "stdout",
          "text": [
            "[[2 5 7 4]\n",
            " [1 6 3 4]\n",
            " [2 1 6 3]\n",
            " [7 8 3 2]]\n",
            "(4, 4)\n",
            "16\n",
            "2\n"
          ]
        }
      ]
    },
    {
      "cell_type": "code",
      "source": [
        "import numpy as np\n",
        "q=np.array([[2,5,7,4],[1,6,3,4],[2,1,6,3],[7,8,3,2]])\n",
        "print(q)\n",
        "print(q.shape)\n",
        "print(q.size)\n",
        "print(q.ndim)\n",
        "print(q[2:,1:3])\n",
        "print(q[:3,2:])"
      ],
      "metadata": {
        "colab": {
          "base_uri": "https://localhost:8080/"
        },
        "id": "zRqeIB98HgzS",
        "outputId": "7479eca1-560e-4db6-dfdc-337c27c84057"
      },
      "execution_count": null,
      "outputs": [
        {
          "output_type": "stream",
          "name": "stdout",
          "text": [
            "[[2 5 7 4]\n",
            " [1 6 3 4]\n",
            " [2 1 6 3]\n",
            " [7 8 3 2]]\n",
            "(4, 4)\n",
            "16\n",
            "2\n",
            "[[1 6]\n",
            " [8 3]]\n",
            "[[7 4]\n",
            " [3 4]\n",
            " [6 3]]\n"
          ]
        }
      ]
    },
    {
      "cell_type": "code",
      "source": [
        "#zero matrix\n",
        "\n",
        "z=np.zeros([3,3,3],dtype=complex)\n",
        "\n",
        "z"
      ],
      "metadata": {
        "colab": {
          "base_uri": "https://localhost:8080/"
        },
        "id": "ixxyi2LIJ4-O",
        "outputId": "a7e5cad2-7ad9-43c4-8bd8-934f6e8a56bc"
      },
      "execution_count": null,
      "outputs": [
        {
          "output_type": "execute_result",
          "data": {
            "text/plain": [
              "array([[[0.+0.j, 0.+0.j, 0.+0.j],\n",
              "        [0.+0.j, 0.+0.j, 0.+0.j],\n",
              "        [0.+0.j, 0.+0.j, 0.+0.j]],\n",
              "\n",
              "       [[0.+0.j, 0.+0.j, 0.+0.j],\n",
              "        [0.+0.j, 0.+0.j, 0.+0.j],\n",
              "        [0.+0.j, 0.+0.j, 0.+0.j]],\n",
              "\n",
              "       [[0.+0.j, 0.+0.j, 0.+0.j],\n",
              "        [0.+0.j, 0.+0.j, 0.+0.j],\n",
              "        [0.+0.j, 0.+0.j, 0.+0.j]]])"
            ]
          },
          "metadata": {},
          "execution_count": 17
        }
      ]
    },
    {
      "cell_type": "code",
      "source": [
        "#one matrix\n",
        "z=np.ones([3,3],dtype=int)\n",
        "z"
      ],
      "metadata": {
        "colab": {
          "base_uri": "https://localhost:8080/"
        },
        "id": "LNN2gJcCKfSm",
        "outputId": "3e212d8d-3a47-4cb7-f9b9-6e31fc294993"
      },
      "execution_count": null,
      "outputs": [
        {
          "output_type": "execute_result",
          "data": {
            "text/plain": [
              "array([[1, 1, 1],\n",
              "       [1, 1, 1],\n",
              "       [1, 1, 1]])"
            ]
          },
          "metadata": {},
          "execution_count": 20
        }
      ]
    },
    {
      "cell_type": "code",
      "source": [
        "#matrix addition\n",
        "import numpy as np\n",
        "\n",
        "a=np.array([[1,2],[3,4]])\n",
        "b=np.array([[3,5],[6,4]])\n",
        "print(a+b)\n",
        "print(a-b)\n"
      ],
      "metadata": {
        "colab": {
          "base_uri": "https://localhost:8080/"
        },
        "id": "iZ-kG-n_LRWM",
        "outputId": "0cd2bfd0-78af-4e36-8307-ff00373c0809"
      },
      "execution_count": null,
      "outputs": [
        {
          "output_type": "stream",
          "name": "stdout",
          "text": [
            "[[4 7]\n",
            " [9 8]]\n",
            "[[-2 -3]\n",
            " [-3  0]]\n"
          ]
        }
      ]
    },
    {
      "cell_type": "code",
      "source": [
        "#multiplication\n",
        "print(a@b)\n",
        "print(a.dot(b))"
      ],
      "metadata": {
        "colab": {
          "base_uri": "https://localhost:8080/"
        },
        "id": "oTAlCxfRMTnp",
        "outputId": "989c81b4-3453-4ade-aee1-bb76daa8256c"
      },
      "execution_count": null,
      "outputs": [
        {
          "output_type": "stream",
          "name": "stdout",
          "text": [
            "[[15 13]\n",
            " [33 31]]\n",
            "[[15 13]\n",
            " [33 31]]\n"
          ]
        }
      ]
    },
    {
      "cell_type": "code",
      "source": [
        "#full matrix\n",
        "\n",
        "z=np.full([3,3],5,dtype=int)\n",
        "z"
      ],
      "metadata": {
        "colab": {
          "base_uri": "https://localhost:8080/"
        },
        "id": "8WF2xw2WOPRT",
        "outputId": "15c00cfb-8fc5-4e09-f35d-c5e72ca840b0"
      },
      "execution_count": null,
      "outputs": [
        {
          "output_type": "execute_result",
          "data": {
            "text/plain": [
              "array([[5, 5, 5],\n",
              "       [5, 5, 5],\n",
              "       [5, 5, 5]])"
            ]
          },
          "metadata": {},
          "execution_count": 30
        }
      ]
    },
    {
      "cell_type": "code",
      "source": [
        "#matrix divison\n",
        "print(a/b)"
      ],
      "metadata": {
        "colab": {
          "base_uri": "https://localhost:8080/"
        },
        "id": "vWkLyHbuNMKo",
        "outputId": "bd09d8e8-9915-4685-b71c-f4d34a95237f"
      },
      "execution_count": null,
      "outputs": [
        {
          "output_type": "stream",
          "name": "stdout",
          "text": [
            "[[0.33333333 0.4       ]\n",
            " [0.5        1.        ]]\n"
          ]
        }
      ]
    },
    {
      "cell_type": "code",
      "source": [
        "#create a 3x4 matrix with value 9 and datatype complex\n",
        "\n",
        "a=np.full([3,4],9,dtype=complex)\n",
        "a"
      ],
      "metadata": {
        "colab": {
          "base_uri": "https://localhost:8080/"
        },
        "id": "zVdOWdvFOjR0",
        "outputId": "14f8ee20-69ac-4bdf-9f6b-6fd37e203be4"
      },
      "execution_count": null,
      "outputs": [
        {
          "output_type": "execute_result",
          "data": {
            "text/plain": [
              "array([[9.+0.j, 9.+0.j, 9.+0.j, 9.+0.j],\n",
              "       [9.+0.j, 9.+0.j, 9.+0.j, 9.+0.j],\n",
              "       [9.+0.j, 9.+0.j, 9.+0.j, 9.+0.j]])"
            ]
          },
          "metadata": {},
          "execution_count": 31
        }
      ]
    },
    {
      "cell_type": "code",
      "source": [
        "#identity matrix\n",
        "\n",
        "a=np.identity(3)\n",
        "a"
      ],
      "metadata": {
        "colab": {
          "base_uri": "https://localhost:8080/"
        },
        "id": "CIK0qVAzO_qE",
        "outputId": "00bbee2b-af78-42ad-afb4-29fc59d746ad"
      },
      "execution_count": null,
      "outputs": [
        {
          "output_type": "execute_result",
          "data": {
            "text/plain": [
              "array([[1., 0., 0.],\n",
              "       [0., 1., 0.],\n",
              "       [0., 0., 1.]])"
            ]
          },
          "metadata": {},
          "execution_count": 37
        }
      ]
    },
    {
      "cell_type": "code",
      "source": [
        "#create a 4x4 matrix\n",
        "y=np.array([[1,2,3,4],[5,6,7,8],[9,8,7,6],[5,4,3,2]])\n",
        "print(y)\n",
        "print(y.size)\n",
        "b=y.reshape(8,2)\n",
        "print(b)"
      ],
      "metadata": {
        "colab": {
          "base_uri": "https://localhost:8080/"
        },
        "id": "l2oAKBfrQvhs",
        "outputId": "dd148cc2-2226-4bd1-b9eb-749de3cc477c"
      },
      "execution_count": null,
      "outputs": [
        {
          "output_type": "stream",
          "name": "stdout",
          "text": [
            "[[1 2 3 4]\n",
            " [5 6 7 8]\n",
            " [9 8 7 6]\n",
            " [5 4 3 2]]\n",
            "16\n",
            "[[1 2]\n",
            " [3 4]\n",
            " [5 6]\n",
            " [7 8]\n",
            " [9 8]\n",
            " [7 6]\n",
            " [5 4]\n",
            " [3 2]]\n"
          ]
        }
      ]
    },
    {
      "cell_type": "code",
      "source": [
        "#arange\n",
        "\n",
        "a=np.arange(1,10,2)\n",
        "print(a)"
      ],
      "metadata": {
        "colab": {
          "base_uri": "https://localhost:8080/"
        },
        "id": "mSbOeidESGCe",
        "outputId": "bb866525-7949-4541-f373-f4e1339194aa"
      },
      "execution_count": null,
      "outputs": [
        {
          "output_type": "stream",
          "name": "stdout",
          "text": [
            "[1 3 5 7 9]\n"
          ]
        }
      ]
    },
    {
      "cell_type": "code",
      "source": [
        "#create a 5x2 matrix using arange\n",
        "\n",
        "a=np.arange(1,11).reshape(5,2)\n",
        "a"
      ],
      "metadata": {
        "colab": {
          "base_uri": "https://localhost:8080/"
        },
        "id": "UoRuX_4YSgf4",
        "outputId": "a666f961-574c-4c86-83d2-fc57f3948d3e"
      },
      "execution_count": null,
      "outputs": [
        {
          "output_type": "execute_result",
          "data": {
            "text/plain": [
              "array([[ 1,  2],\n",
              "       [ 3,  4],\n",
              "       [ 5,  6],\n",
              "       [ 7,  8],\n",
              "       [ 9, 10]])"
            ]
          },
          "metadata": {},
          "execution_count": 45
        }
      ]
    },
    {
      "cell_type": "code",
      "source": [
        "#create a 3x3 matrix\n",
        "import numpy as np\n",
        "a=np.arange(1,10).reshape(3,3)\n",
        "print(a)\n",
        "\n",
        "a.max()\n",
        "a.max(axis=0)\n",
        "a.max(axis=1)\n",
        "\n",
        "a.min()\n",
        "a.min(axis=0)\n",
        "a.min(axis=1)\n",
        "\n",
        "a.sum()\n",
        "a.sum(axis=0)\n",
        "a.sum(axis=1)\n",
        "np.sqrt(a)\n",
        "\n",
        "np.sin(a)\n",
        "\n",
        "np.tan(a)\n",
        "\n",
        "a.flatten()"
      ],
      "metadata": {
        "colab": {
          "base_uri": "https://localhost:8080/"
        },
        "id": "k3EZw2lWj7SB",
        "outputId": "7286bfe9-e4d5-4e79-f0ca-991a03817fe6"
      },
      "execution_count": null,
      "outputs": [
        {
          "output_type": "stream",
          "name": "stdout",
          "text": [
            "[[1 2 3]\n",
            " [4 5 6]\n",
            " [7 8 9]]\n"
          ]
        },
        {
          "output_type": "execute_result",
          "data": {
            "text/plain": [
              "array([1, 2, 3, 4, 5, 6, 7, 8, 9])"
            ]
          },
          "metadata": {},
          "execution_count": 7
        }
      ]
    },
    {
      "cell_type": "code",
      "source": [
        "#sort\n",
        "#create a 3x3 matrix\n",
        "\n",
        "a=np.array([[3,4,1],[5,3,1],[6,9,8]])\n",
        "print(a)\n",
        "\n",
        "#b=np.sort(a,axis=0)\n",
        "#print(b)\n",
        "\n",
        "c=np.sort(a,axis=1)\n",
        "print(c)\n",
        "\n",
        "d=np.argsort(a,axis=1)\n",
        "d\n",
        "\n",
        "a.flatten()"
      ],
      "metadata": {
        "colab": {
          "base_uri": "https://localhost:8080/"
        },
        "id": "DLTRq0AHleXH",
        "outputId": "ebf49729-c559-41d2-8389-9d91d670a441"
      },
      "execution_count": null,
      "outputs": [
        {
          "output_type": "stream",
          "name": "stdout",
          "text": [
            "[[3 4 1]\n",
            " [5 3 1]\n",
            " [6 9 8]]\n",
            "[[1 3 4]\n",
            " [1 3 5]\n",
            " [6 8 9]]\n"
          ]
        },
        {
          "output_type": "execute_result",
          "data": {
            "text/plain": [
              "array([3, 4, 1, 5, 3, 1, 6, 9, 8])"
            ]
          },
          "metadata": {},
          "execution_count": 15
        }
      ]
    }
  ]
}